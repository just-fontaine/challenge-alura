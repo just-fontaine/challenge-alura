{
 "cells": [
  {
   "cell_type": "code",
   "execution_count": 1,
   "metadata": {},
   "outputs": [],
   "source": [
    "# • Faturamento total de cada loja\n",
    "# • Categorias mais populares\n",
    "# • Média de avaliação dos clientes\n",
    "# • Produtos mais e menos vendidos\n",
    "# • Custo médio do frete"
   ]
  },
  {
   "cell_type": "code",
   "execution_count": null,
   "id": "d4d949e4",
   "metadata": {},
   "outputs": [],
   "source": []
  }
 ],
 "metadata": {
  "kernelspec": {
   "display_name": "Python 3",
   "language": "python",
   "name": "python3"
  },
  "language_info": {
   "codemirror_mode": {
    "name": "ipython",
    "version": 3
   },
   "file_extension": ".py",
   "mimetype": "text/x-python",
   "name": "python",
   "nbconvert_exporter": "python",
   "pygments_lexer": "ipython3",
   "version": "3.12.9"
  }
 },
 "nbformat": 4,
 "nbformat_minor": 5
}
